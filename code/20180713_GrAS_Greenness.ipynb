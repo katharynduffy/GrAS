{
 "cells": [
  {
   "cell_type": "markdown",
   "metadata": {},
   "source": [
    "# Capstone Project (Greenness)\n",
    "### This module is responsible for reading in a LandSat Image and a Neon AOP NDVI product for Konza Prairie (KONZ)     \n",
    "### The outcome is a high level investation of the greenness correlation between these two products\n",
    "### July 13th, 2018\n",
    "### Team Member: Katharyn Duffy (katharyn.woods@gmail.com), Reza Khatami (rezaa.khatami@gmail.com), Vernon Visser (vervis@gmail.com), Youssef Kaddoura (yokaddoura@gmail.com)"
   ]
  },
  {
   "cell_type": "code",
   "execution_count": 40,
   "metadata": {},
   "outputs": [],
   "source": [
    "import gdal\n",
    "import h5py\n",
    "import numpy as np\n",
    "from math import floor\n",
    "import os\n",
    "import matplotlib.pyplot as plt\n",
    "from osgeo import gdal, gdalconst\n"
   ]
  },
  {
   "cell_type": "code",
   "execution_count": 42,
   "metadata": {},
   "outputs": [],
   "source": [
    "NDVI_AOP_tif_directory = r'C:\\\\Users\\\\GoGators\\\\Desktop\\\\Neon\\\\GrAS\\\\Data\\\\NEON_indices-veg-spectrometer-mosaic\\\\2017\\\\FullSite\\\\D06\\\\2017_KONZ_2\\\\L3\\\\Spectrometer\\\\VegIndices\\\\'\n",
    "LAI_AOP_tif_directory = r'C:\\\\Users\\\\GoGators\\\\Desktop\\\\Neon\\\\GrAS\\\\Data\\\\NEON_lai-spectrometer-mosaic\\\\2017\\\\FullSite\\\\D06\\\\2017_KONZ_2\\\\L3\\\\Spectrometer\\\\LAI\\\\'"
   ]
  },
  {
   "cell_type": "code",
   "execution_count": 4,
   "metadata": {},
   "outputs": [
    {
     "name": "stdout",
     "output_type": "stream",
     "text": [
      "rC:\\Users\\GoGators\\Desktop\\Neon\\GrAS\\Data\\NEON_indices-veg-spectrometer-mosaic\\2017\\FullSite\\D06\\2017_KONZ_2\\L3\\Spectrometer\\VegIndices\\NEON_D06_KONZ_DP3_710000_4330000_NDVI.tif\n"
     ]
    }
   ],
   "source": [
    "Tower1_Easting = 710730\n",
    "Tower1_Northing = 4330787\n",
    "\n",
    "#Tower2_Easting = 316807\n",
    "#Tower2_Northing = 4881510\n",
    "\n",
    "Min_Distance_Tower1 = 2000000.1\n",
    "#Min_Distance_Tower2 = 2000000.2\n",
    "Counter = 0\n",
    "Index1 = 0\n",
    "#Index2 = 0\n",
    "\n",
    "Min_Distance_Easting_Tower1= 0\n",
    "Min_Distance_Northing_Tower1= 0\n",
    "#Min_Distance_Easting_Tower2= 0\n",
    "#Min_Distance_Northing_Tower2= 0\n",
    "\n",
    "files = os.listdir(NDVI_AOP_tif_directory)\n",
    "NDVI_files = [i for i in files if i.endswith('.tif')]\n",
    "for file in NDVI_files:\n",
    "    Counter = Counter + 1\n",
    "    filename_split = (file).split(\"_\") \n",
    "    Easting = np.int(filename_split[4])\n",
    "    Northing = np.int(filename_split[5])\n",
    "#    print(Easting,Northing)\n",
    "    Distance_from_Tower1 = np.sqrt(np.square(Easting-Tower1_Easting) + np.square(Northing-Tower1_Northing))\n",
    "#    Distance_from_Tower2 = np.sqrt(np.square(Easting-Tower2_Easting) + np.square(Northing-Tower2_Northing))\n",
    "#    print(Distance_from_Tower1)\n",
    "    if (Distance_from_Tower1 < 4000):\n",
    "        if(((Tower1_Easting-Easting) >=0) and ((Tower1_Northing-Northing)>=0)):\n",
    "            Min_Distance_Tower1 = Distance_from_Tower1\n",
    "            Min_Distance_Easting_Tower1 =Easting\n",
    "            Min_Distance_Northing_Tower1 = Northing\n",
    "            Index1 = Counter\n",
    "#    if (Distance_from_Tower2 < 4000):\n",
    "#        if(((Tower1_Easting-Easting) >=0) and ((Tower1_Northing-Northing)>=0)):\n",
    "#            Min_Distance_Tower2 = Distance_from_Tower2\n",
    "#            Min_Distance_Easting_Tower2 =Easting\n",
    "#            Min_Distance_Northing_Tower2 = Northing\n",
    "#            Index2 = Counter\n",
    "#print('Tower One is in ',Min_Distance_Easting_Tower1,Min_Distance_Northing_Tower1, ' Index1 ',Index1)\n",
    "#print('Tower Two is in ',Min_Distance_Easting_Tower2,Min_Distance_Northing_Tower2, ' Index2 ',Index2)\n",
    "NDVI_file_of_interest = filename_split[0]+'_'+filename_split[1]+'_'+filename_split[2]+'_'+filename_split[3]+'_'+str(Min_Distance_Easting_Tower1)+'_'+str(Min_Distance_Northing_Tower1)+'_'+filename_split[6]\n",
    "#print(file_of_interest)\n",
    "NDVI_filepath = \"C:\\\\Users\\\\GoGators\\\\Desktop\\\\Neon\\\\GrAS\\\\Data\\\\NEON_indices-veg-spectrometer-mosaic\\\\2017\\\\FullSite\\\\D06\\\\2017_KONZ_2\\\\L3\\\\Spectrometer\\\\VegIndices\\\\\"\n",
    "\n"
   ]
  },
  {
   "cell_type": "code",
   "execution_count": 31,
   "metadata": {},
   "outputs": [
    {
     "name": "stdout",
     "output_type": "stream",
     "text": [
      "C:\\Users\\GoGators\\Desktop\\Neon\\GrAS\\Data\\NEON_indices-veg-spectrometer-mosaic\\2017\\FullSite\\D06\\2017_KONZ_2\\L3\\Spectrometer\\VegIndices\\NEON_D06_KONZ_DP3_710000_4330000_NDVI.tif\n"
     ]
    }
   ],
   "source": [
    "NDVI_tif_filename =os.path.join(NDVI_filepath,NDVI_file_of_interest)\n"
   ]
  },
  {
   "cell_type": "code",
   "execution_count": 32,
   "metadata": {},
   "outputs": [],
   "source": [
    "#tif_AOP_filename = r'C:\\Users\\GoGators\\Desktop\\Neon\\GrAS\\Data\\NEON_indices-veg-spectrometer-mosaic\\2017\\FullSite\\D06\\2017_KONZ_2\\L3\\Spectrometer\\VegIndices\\NEON_D06_KONZ_DP3_710000_4330000_NDVI.tif'\n",
    "tif_AOP_filename = tif_filename"
   ]
  },
  {
   "cell_type": "markdown",
   "metadata": {},
   "source": [
    "# Reading Corresponding LandSat Image and Preparing it for Resampling"
   ]
  },
  {
   "cell_type": "code",
   "execution_count": 33,
   "metadata": {},
   "outputs": [],
   "source": [
    "src_LS_filename = r'C:\\Users\\GoGators\\Desktop\\Neon\\GrAS\\Data\\LS8-May_to_July_NDVI.tif'\n"
   ]
  },
  {
   "cell_type": "code",
   "execution_count": 34,
   "metadata": {},
   "outputs": [],
   "source": [
    "# %load raster2array.py\n",
    "def raster2array(geotif_file):\n",
    "    metadata = {}\n",
    "    dataset = gdal.Open(geotif_file)\n",
    "    metadata['array_rows'] = dataset.RasterYSize\n",
    "    metadata['array_cols'] = dataset.RasterXSize\n",
    "    metadata['bands'] = dataset.RasterCount\n",
    "    metadata['driver'] = dataset.GetDriver().LongName\n",
    "    metadata['projection'] = dataset.GetProjection()\n",
    "    metadata['geotransform'] = dataset.GetGeoTransform()\n",
    "    \n",
    "    mapinfo = dataset.GetGeoTransform()\n",
    "    metadata['pixelWidth'] = mapinfo[1]\n",
    "    metadata['pixelHeight'] = mapinfo[5]\n",
    "\n",
    "    xMin = mapinfo[0]\n",
    "    xMax = mapinfo[0] + dataset.RasterXSize/mapinfo[1]\n",
    "    yMin = mapinfo[3] + dataset.RasterYSize/mapinfo[5]\n",
    "    yMax = mapinfo[3]\n",
    "    \n",
    "    metadata['extent'] = (xMin,xMax,yMin,yMax)\n",
    "    \n",
    "    raster = dataset.GetRasterBand(1)\n",
    "    array_shape = raster.ReadAsArray(0,0,metadata['array_cols'],metadata['array_rows']).astype(np.float).shape\n",
    "    metadata['noDataValue'] = raster.GetNoDataValue()\n",
    "    metadata['scaleFactor'] = raster.GetScale()\n",
    "    \n",
    "    array = np.zeros((array_shape[0],array_shape[1],dataset.RasterCount),'uint8') #pre-allocate stackedArray matrix\n",
    "    \n",
    "    if metadata['bands'] == 1:\n",
    "        raster = dataset.GetRasterBand(1)\n",
    "        metadata['noDataValue'] = raster.GetNoDataValue()\n",
    "        metadata['scaleFactor'] = raster.GetScale()\n",
    "              \n",
    "        array = dataset.GetRasterBand(1).ReadAsArray(0,0,metadata['array_cols'],metadata['array_rows']).astype(np.float)\n",
    "        array[np.where(array==metadata['noDataValue'])]=np.nan\n",
    "        array = array/metadata['scaleFactor']\n",
    "    \n",
    "    elif metadata['bands'] > 1:    \n",
    "        for i in range(1, dataset.RasterCount+1):\n",
    "            band = float(dataset.GetRasterBand(i).ReadAsArray(0,0,metadata['array_cols'],metadata['array_rows']))\n",
    "            band[np.where(band==metadata['noDataValue'])]=np.nan\n",
    "            band = band/metadata['scaleFactor']\n",
    "            array[...,i-1] = band\n",
    "\n",
    "    return array, metadata"
   ]
  },
  {
   "cell_type": "code",
   "execution_count": 35,
   "metadata": {},
   "outputs": [],
   "source": [
    "tif_array, tif_array_metadata = raster2array(tif_AOP_filename)"
   ]
  },
  {
   "cell_type": "markdown",
   "metadata": {},
   "source": [
    "# Resampling for LS to match AOP NDVI Product"
   ]
  },
  {
   "cell_type": "code",
   "execution_count": 36,
   "metadata": {},
   "outputs": [],
   "source": [
    "src = gdal.Open(src_LS_filename, gdalconst.GA_ReadOnly)\n",
    "src_proj = src.GetProjection()\n",
    "src_geotrans = src.GetGeoTransform()"
   ]
  },
  {
   "cell_type": "code",
   "execution_count": 75,
   "metadata": {},
   "outputs": [],
   "source": [
    "# We want a section of source that matches this:\n",
    "match_filename = tif_AOP_filename\n",
    "match_ds = gdal.Open(match_filename, gdalconst.GA_ReadOnly)\n",
    "match_proj = match_ds.GetProjection()\n",
    "match_geotrans = match_ds.GetGeoTransform()\n",
    "wide = match_ds.RasterXSize\n",
    "high = match_ds.RasterYSize"
   ]
  },
  {
   "cell_type": "code",
   "execution_count": 76,
   "metadata": {
    "scrolled": true
   },
   "outputs": [],
   "source": [
    "# Output / destination\n",
    "dst_filename = '..//Output//LS_Section_Matching_AOP_NDVI.tif'\n",
    "dst = gdal.GetDriverByName('GTiff').Create(dst_filename, wide, high, 1, gdalconst.GDT_Float32)\n",
    "dst.SetGeoTransform( match_geotrans )\n",
    "dst.SetProjection( match_proj)\n",
    "gdal.ReprojectImage(src, dst, src_proj, match_proj, gdalconst.GRA_Bilinear)\n",
    "del dst # Flush"
   ]
  },
  {
   "cell_type": "markdown",
   "metadata": {},
   "source": [
    "# Reading and Identifying LAI"
   ]
  },
  {
   "cell_type": "code",
   "execution_count": 78,
   "metadata": {},
   "outputs": [
    {
     "name": "stdout",
     "output_type": "stream",
     "text": [
      "C:\\Users\\GoGators\\Desktop\\Neon\\GrAS\\Data\\NEON_lai-spectrometer-mosaic\\2017\\FullSite\\D06\\2017_KONZ_2\\L3\\Spectrometer\\LAI\\NEON_D06_KONZ_DP3_710000_4330000_LAI.tif\n"
     ]
    }
   ],
   "source": [
    "files2 = os.listdir(LAI_AOP_tif_directory)\n",
    "LAI_files = [i for i in files2 if i.endswith('.tif')]\n",
    "filename2_split = LAI_files[0].split(\"_\")\n",
    "LAI_file_of_interest = filename2_split[0]+'_'+filename2_split[1]+'_'+filename2_split[2]+'_'+filename2_split[3]+'_'+str(Min_Distance_Easting_Tower1)+'_'+str(Min_Distance_Northing_Tower1)+'_'+filename2_split[6]\n",
    "#print(file_of_interest)\n",
    "LAI_filepath = \"C:\\\\Users\\\\GoGators\\\\Desktop\\\\Neon\\\\GrAS\\\\Data\\\\NEON_lai-spectrometer-mosaic\\\\2017\\\\FullSite\\\\D06\\\\2017_KONZ_2\\\\L3\\\\Spectrometer\\\\LAI\\\\\"\n",
    "LAI_tif_filename =os.path.join(LAI_filepath,LAI_file_of_interest)\n",
    "print(LAI_tif_filename)\n",
    "\n"
   ]
  },
  {
   "cell_type": "code",
   "execution_count": null,
   "metadata": {},
   "outputs": [],
   "source": []
  }
 ],
 "metadata": {
  "kernelspec": {
   "display_name": "Python 3",
   "language": "python",
   "name": "python3"
  },
  "language_info": {
   "codemirror_mode": {
    "name": "ipython",
    "version": 3
   },
   "file_extension": ".py",
   "mimetype": "text/x-python",
   "name": "python",
   "nbconvert_exporter": "python",
   "pygments_lexer": "ipython3",
   "version": "3.5.5"
  }
 },
 "nbformat": 4,
 "nbformat_minor": 2
}
